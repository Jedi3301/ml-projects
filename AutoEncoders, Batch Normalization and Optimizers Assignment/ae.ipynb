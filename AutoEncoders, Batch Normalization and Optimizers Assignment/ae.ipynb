{
 "cells": [
  {
   "cell_type": "code",
   "execution_count": 1,
   "id": "f1321ed2",
   "metadata": {},
   "outputs": [],
   "source": [
    "import torch\n",
    "import torch.nn as nn\n",
    "import torch.optim as optim\n",
    "from torch.utils.data import TensorDataset, DataLoader\n",
    "from sklearn.preprocessing import StandardScaler\n",
    "from sklearn.model_selection import train_test_split\n",
    "import pandas as pd\n",
    "import matplotlib.pyplot as plt\n",
    "import numpy as np"
   ]
  },
  {
   "cell_type": "code",
   "execution_count": 2,
   "id": "678066ed",
   "metadata": {},
   "outputs": [],
   "source": [
    "df = pd.read_csv('traffic.csv')"
   ]
  },
  {
   "cell_type": "code",
   "execution_count": 3,
   "id": "865a8828",
   "metadata": {},
   "outputs": [
    {
     "data": {
      "text/plain": [
       "Time                    0\n",
       "Traffic_Flow          300\n",
       "Average_Speed         300\n",
       "Occupancy             300\n",
       "Temperature           300\n",
       "Humidity              300\n",
       "Wind_Speed            300\n",
       "Precipitation         300\n",
       "Visibility            300\n",
       "Road_Condition        150\n",
       "Traffic_Congestion      0\n",
       "dtype: int64"
      ]
     },
     "execution_count": 3,
     "metadata": {},
     "output_type": "execute_result"
    }
   ],
   "source": [
    "df.isna().sum()"
   ]
  },
  {
   "cell_type": "code",
   "execution_count": 4,
   "id": "68c35543",
   "metadata": {},
   "outputs": [],
   "source": [
    "threshold = int(df.shape[1] * 0.7)\n",
    "df = df.dropna(thresh=df.shape[1] - threshold)"
   ]
  },
  {
   "cell_type": "code",
   "execution_count": 5,
   "id": "6bcbf382",
   "metadata": {},
   "outputs": [
    {
     "name": "stderr",
     "output_type": "stream",
     "text": [
      "C:\\Users\\Jedi\\AppData\\Local\\Temp\\ipykernel_28808\\2653824219.py:1: FutureWarning: A value is trying to be set on a copy of a DataFrame or Series through chained assignment using an inplace method.\n",
      "The behavior will change in pandas 3.0. This inplace method will never work because the intermediate object on which we are setting values always behaves as a copy.\n",
      "\n",
      "For example, when doing 'df[col].method(value, inplace=True)', try using 'df.method({col: value}, inplace=True)' or df[col] = df[col].method(value) instead, to perform the operation inplace on the original object.\n",
      "\n",
      "\n",
      "  df['Road_Condition'].fillna('Unknown', inplace=True)\n"
     ]
    }
   ],
   "source": [
    "df['Road_Condition'].fillna('Unknown', inplace=True)"
   ]
  },
  {
   "cell_type": "code",
   "execution_count": 6,
   "id": "a6f0acc4",
   "metadata": {},
   "outputs": [
    {
     "data": {
      "text/plain": [
       "Time                  0\n",
       "Traffic_Flow          0\n",
       "Average_Speed         0\n",
       "Occupancy             0\n",
       "Temperature           0\n",
       "Humidity              0\n",
       "Wind_Speed            0\n",
       "Precipitation         0\n",
       "Visibility            0\n",
       "Road_Condition        0\n",
       "Traffic_Congestion    0\n",
       "dtype: int64"
      ]
     },
     "execution_count": 6,
     "metadata": {},
     "output_type": "execute_result"
    }
   ],
   "source": [
    "df.isna().sum()"
   ]
  },
  {
   "cell_type": "code",
   "execution_count": 7,
   "id": "aad143bd",
   "metadata": {},
   "outputs": [],
   "source": [
    "df['Hour'] = pd.to_datetime(df['Time']).dt.hour\n",
    "df['Day_Night'] = df['Hour'].apply(lambda x: 'Day' if 6 <= x < 18 else 'Night')\n",
    "df = df.drop(columns=['Time', 'Hour'])"
   ]
  },
  {
   "cell_type": "code",
   "execution_count": 8,
   "id": "d9264d1b",
   "metadata": {},
   "outputs": [
    {
     "data": {
      "text/html": [
       "<div>\n",
       "<style scoped>\n",
       "    .dataframe tbody tr th:only-of-type {\n",
       "        vertical-align: middle;\n",
       "    }\n",
       "\n",
       "    .dataframe tbody tr th {\n",
       "        vertical-align: top;\n",
       "    }\n",
       "\n",
       "    .dataframe thead th {\n",
       "        text-align: right;\n",
       "    }\n",
       "</style>\n",
       "<table border=\"1\" class=\"dataframe\">\n",
       "  <thead>\n",
       "    <tr style=\"text-align: right;\">\n",
       "      <th></th>\n",
       "      <th>Traffic_Flow</th>\n",
       "      <th>Average_Speed</th>\n",
       "      <th>Occupancy</th>\n",
       "      <th>Temperature</th>\n",
       "      <th>Humidity</th>\n",
       "      <th>Wind_Speed</th>\n",
       "      <th>Precipitation</th>\n",
       "      <th>Visibility</th>\n",
       "      <th>Road_Condition</th>\n",
       "      <th>Traffic_Congestion</th>\n",
       "      <th>Day_Night</th>\n",
       "    </tr>\n",
       "  </thead>\n",
       "  <tbody>\n",
       "    <tr>\n",
       "      <th>0</th>\n",
       "      <td>102.0</td>\n",
       "      <td>95.208871</td>\n",
       "      <td>71.489953</td>\n",
       "      <td>24.730232</td>\n",
       "      <td>6.641042</td>\n",
       "      <td>1.613307</td>\n",
       "      <td>4.843614</td>\n",
       "      <td>5.615359</td>\n",
       "      <td>Snowy</td>\n",
       "      <td>Low</td>\n",
       "      <td>Night</td>\n",
       "    </tr>\n",
       "    <tr>\n",
       "      <th>1</th>\n",
       "      <td>435.0</td>\n",
       "      <td>22.227414</td>\n",
       "      <td>57.897765</td>\n",
       "      <td>8.805837</td>\n",
       "      <td>17.086020</td>\n",
       "      <td>27.731161</td>\n",
       "      <td>6.546673</td>\n",
       "      <td>0.003330</td>\n",
       "      <td>Snowy</td>\n",
       "      <td>Medium</td>\n",
       "      <td>Night</td>\n",
       "    </tr>\n",
       "    <tr>\n",
       "      <th>2</th>\n",
       "      <td>860.0</td>\n",
       "      <td>110.130299</td>\n",
       "      <td>1.460900</td>\n",
       "      <td>23.678285</td>\n",
       "      <td>31.112068</td>\n",
       "      <td>19.851620</td>\n",
       "      <td>19.707152</td>\n",
       "      <td>1.142456</td>\n",
       "      <td>Wet</td>\n",
       "      <td>High</td>\n",
       "      <td>Night</td>\n",
       "    </tr>\n",
       "    <tr>\n",
       "      <th>3</th>\n",
       "      <td>270.0</td>\n",
       "      <td>50.943291</td>\n",
       "      <td>36.037549</td>\n",
       "      <td>33.260058</td>\n",
       "      <td>32.069929</td>\n",
       "      <td>26.598680</td>\n",
       "      <td>7.363360</td>\n",
       "      <td>3.751952</td>\n",
       "      <td>Dry</td>\n",
       "      <td>Low</td>\n",
       "      <td>Night</td>\n",
       "    </tr>\n",
       "    <tr>\n",
       "      <th>5</th>\n",
       "      <td>71.0</td>\n",
       "      <td>97.889837</td>\n",
       "      <td>38.745130</td>\n",
       "      <td>0.729223</td>\n",
       "      <td>62.313292</td>\n",
       "      <td>3.938606</td>\n",
       "      <td>16.965885</td>\n",
       "      <td>1.335290</td>\n",
       "      <td>Dry</td>\n",
       "      <td>Low</td>\n",
       "      <td>Night</td>\n",
       "    </tr>\n",
       "    <tr>\n",
       "      <th>...</th>\n",
       "      <td>...</td>\n",
       "      <td>...</td>\n",
       "      <td>...</td>\n",
       "      <td>...</td>\n",
       "      <td>...</td>\n",
       "      <td>...</td>\n",
       "      <td>...</td>\n",
       "      <td>...</td>\n",
       "      <td>...</td>\n",
       "      <td>...</td>\n",
       "      <td>...</td>\n",
       "    </tr>\n",
       "    <tr>\n",
       "      <th>2994</th>\n",
       "      <td>38.0</td>\n",
       "      <td>70.758419</td>\n",
       "      <td>3.662970</td>\n",
       "      <td>5.110396</td>\n",
       "      <td>86.480381</td>\n",
       "      <td>0.524866</td>\n",
       "      <td>1.929640</td>\n",
       "      <td>5.735761</td>\n",
       "      <td>Wet</td>\n",
       "      <td>Low</td>\n",
       "      <td>Night</td>\n",
       "    </tr>\n",
       "    <tr>\n",
       "      <th>2995</th>\n",
       "      <td>908.0</td>\n",
       "      <td>8.085225</td>\n",
       "      <td>19.574603</td>\n",
       "      <td>-9.857157</td>\n",
       "      <td>39.042333</td>\n",
       "      <td>29.211387</td>\n",
       "      <td>1.396254</td>\n",
       "      <td>9.959174</td>\n",
       "      <td>Dry</td>\n",
       "      <td>High</td>\n",
       "      <td>Night</td>\n",
       "    </tr>\n",
       "    <tr>\n",
       "      <th>2996</th>\n",
       "      <td>158.0</td>\n",
       "      <td>99.784894</td>\n",
       "      <td>82.674243</td>\n",
       "      <td>33.180766</td>\n",
       "      <td>38.136846</td>\n",
       "      <td>14.165901</td>\n",
       "      <td>3.205072</td>\n",
       "      <td>9.941294</td>\n",
       "      <td>Wet</td>\n",
       "      <td>Low</td>\n",
       "      <td>Night</td>\n",
       "    </tr>\n",
       "    <tr>\n",
       "      <th>2997</th>\n",
       "      <td>582.0</td>\n",
       "      <td>21.279186</td>\n",
       "      <td>83.076739</td>\n",
       "      <td>16.645546</td>\n",
       "      <td>26.269763</td>\n",
       "      <td>11.807877</td>\n",
       "      <td>8.543912</td>\n",
       "      <td>4.240304</td>\n",
       "      <td>Wet</td>\n",
       "      <td>Medium</td>\n",
       "      <td>Night</td>\n",
       "    </tr>\n",
       "    <tr>\n",
       "      <th>2999</th>\n",
       "      <td>311.0</td>\n",
       "      <td>92.720519</td>\n",
       "      <td>87.489723</td>\n",
       "      <td>27.138570</td>\n",
       "      <td>26.800898</td>\n",
       "      <td>12.724526</td>\n",
       "      <td>8.926675</td>\n",
       "      <td>4.808025</td>\n",
       "      <td>Wet</td>\n",
       "      <td>Low</td>\n",
       "      <td>Night</td>\n",
       "    </tr>\n",
       "  </tbody>\n",
       "</table>\n",
       "<p>2700 rows × 11 columns</p>\n",
       "</div>"
      ],
      "text/plain": [
       "      Traffic_Flow  Average_Speed  Occupancy  Temperature   Humidity  \\\n",
       "0            102.0      95.208871  71.489953    24.730232   6.641042   \n",
       "1            435.0      22.227414  57.897765     8.805837  17.086020   \n",
       "2            860.0     110.130299   1.460900    23.678285  31.112068   \n",
       "3            270.0      50.943291  36.037549    33.260058  32.069929   \n",
       "5             71.0      97.889837  38.745130     0.729223  62.313292   \n",
       "...            ...            ...        ...          ...        ...   \n",
       "2994          38.0      70.758419   3.662970     5.110396  86.480381   \n",
       "2995         908.0       8.085225  19.574603    -9.857157  39.042333   \n",
       "2996         158.0      99.784894  82.674243    33.180766  38.136846   \n",
       "2997         582.0      21.279186  83.076739    16.645546  26.269763   \n",
       "2999         311.0      92.720519  87.489723    27.138570  26.800898   \n",
       "\n",
       "      Wind_Speed  Precipitation  Visibility Road_Condition Traffic_Congestion  \\\n",
       "0       1.613307       4.843614    5.615359          Snowy                Low   \n",
       "1      27.731161       6.546673    0.003330          Snowy             Medium   \n",
       "2      19.851620      19.707152    1.142456            Wet               High   \n",
       "3      26.598680       7.363360    3.751952            Dry                Low   \n",
       "5       3.938606      16.965885    1.335290            Dry                Low   \n",
       "...          ...            ...         ...            ...                ...   \n",
       "2994    0.524866       1.929640    5.735761            Wet                Low   \n",
       "2995   29.211387       1.396254    9.959174            Dry               High   \n",
       "2996   14.165901       3.205072    9.941294            Wet                Low   \n",
       "2997   11.807877       8.543912    4.240304            Wet             Medium   \n",
       "2999   12.724526       8.926675    4.808025            Wet                Low   \n",
       "\n",
       "     Day_Night  \n",
       "0        Night  \n",
       "1        Night  \n",
       "2        Night  \n",
       "3        Night  \n",
       "5        Night  \n",
       "...        ...  \n",
       "2994     Night  \n",
       "2995     Night  \n",
       "2996     Night  \n",
       "2997     Night  \n",
       "2999     Night  \n",
       "\n",
       "[2700 rows x 11 columns]"
      ]
     },
     "execution_count": 8,
     "metadata": {},
     "output_type": "execute_result"
    }
   ],
   "source": [
    "df"
   ]
  },
  {
   "cell_type": "code",
   "execution_count": 9,
   "id": "9aa0df94",
   "metadata": {},
   "outputs": [],
   "source": [
    "cat_cols = df[['Traffic_Congestion', 'Road_Condition', 'Day_Night']]\n"
   ]
  },
  {
   "cell_type": "code",
   "execution_count": 10,
   "id": "0f1c9dfd",
   "metadata": {},
   "outputs": [],
   "source": [
    "X_encoded = pd.get_dummies(df, columns=cat_cols.columns.tolist(), drop_first=False)\n",
    "\n",
    "\n",
    "X_encoded.to_csv('traffic_prep.csv', index=False)"
   ]
  },
  {
   "cell_type": "code",
   "execution_count": 11,
   "id": "dcc100f1",
   "metadata": {},
   "outputs": [],
   "source": [
    "df = pd.read_csv(\"traffic_prep.csv\")\n",
    "X = df.drop(columns=[\"Traffic_Flow\"]).values\n",
    "y = df[\"Traffic_Flow\"].values.reshape(-1, 1)\n",
    "\n",
    "scaler_X = StandardScaler()\n",
    "scaler_y = StandardScaler()\n",
    "X_scaled = scaler_X.fit_transform(X)\n",
    "y_scaled = scaler_y.fit_transform(y)\n"
   ]
  },
  {
   "cell_type": "markdown",
   "id": "71ef3b81",
   "metadata": {},
   "source": [
    "\n",
    "# Convert to PyTorch tensors\n"
   ]
  },
  {
   "cell_type": "code",
   "execution_count": 12,
   "id": "04b7a154",
   "metadata": {},
   "outputs": [],
   "source": [
    "X_tensor = torch.tensor(X_scaled, dtype=torch.float32)\n",
    "y_tensor = torch.tensor(y_scaled, dtype=torch.float32)\n"
   ]
  },
  {
   "cell_type": "code",
   "execution_count": 13,
   "id": "f20d75b8",
   "metadata": {},
   "outputs": [],
   "source": [
    "\n",
    "X_train, X_test, y_train, y_test = train_test_split(X_tensor, y_tensor, test_size=0.2, random_state=42)\n"
   ]
  },
  {
   "cell_type": "markdown",
   "id": "ac2f3f56",
   "metadata": {},
   "source": [
    "\n",
    "# Create TensorDatasets and DataLoaders\n"
   ]
  },
  {
   "cell_type": "code",
   "execution_count": 14,
   "id": "bad53d2c",
   "metadata": {},
   "outputs": [],
   "source": [
    "\n",
    "train_ds = TensorDataset(X_train, y_train)\n",
    "test_ds = TensorDataset(X_test, y_test)\n",
    "\n",
    "train_loader = DataLoader(train_ds, batch_size=64, shuffle=True)\n",
    "test_loader = DataLoader(test_ds, batch_size=64)\n"
   ]
  },
  {
   "cell_type": "markdown",
   "id": "77e36ccb",
   "metadata": {},
   "source": [
    "\n",
    "# Define Autoencoder for feature compression\n"
   ]
  },
  {
   "cell_type": "code",
   "execution_count": 15,
   "id": "13f3cac9",
   "metadata": {},
   "outputs": [],
   "source": [
    "\n",
    "class Autoencoder(nn.Module):\n",
    "    def __init__(self, input_dim, bottleneck_dim=8):\n",
    "        super().__init__()\n",
    "        self.encoder = nn.Sequential(\n",
    "            nn.Linear(input_dim, 16),\n",
    "            nn.ReLU(),\n",
    "            nn.Linear(16, bottleneck_dim)\n",
    "        )\n",
    "        self.decoder = nn.Sequential(\n",
    "            nn.Linear(bottleneck_dim, 16),\n",
    "            nn.ReLU(),\n",
    "            nn.Linear(16, input_dim)\n",
    "        )\n",
    "\n",
    "    def forward(self, x):\n",
    "        encoded = self.encoder(x)\n",
    "        decoded = self.decoder(encoded)\n",
    "        return decoded\n"
   ]
  },
  {
   "cell_type": "markdown",
   "id": "a6d7c3f7",
   "metadata": {},
   "source": [
    "\n",
    "# Train Autoencoder\n"
   ]
  },
  {
   "cell_type": "code",
   "execution_count": 16,
   "id": "c7df57f2",
   "metadata": {},
   "outputs": [],
   "source": [
    "autoencoder = Autoencoder(input_dim=X.shape[1])\n",
    "ae_optimizer = optim.Adam(autoencoder.parameters(), lr=1e-3)\n",
    "ae_criterion = nn.MSELoss()\n",
    "\n",
    "for epoch in range(50):\n",
    "    autoencoder.train()\n",
    "    for xb, _ in train_loader:\n",
    "        ae_optimizer.zero_grad()\n",
    "        output = autoencoder(xb)\n",
    "        loss = ae_criterion(output, xb)\n",
    "        loss.backward()\n",
    "        ae_optimizer.step()\n"
   ]
  },
  {
   "cell_type": "markdown",
   "id": "9996e0fe",
   "metadata": {},
   "source": [
    "\n",
    "# Freeze encoder\n"
   ]
  },
  {
   "cell_type": "code",
   "execution_count": 17,
   "id": "f5d18739",
   "metadata": {},
   "outputs": [],
   "source": [
    "encoded_train = autoencoder.encoder(X_train).detach()\n",
    "encoded_test = autoencoder.encoder(X_test).detach()\n"
   ]
  },
  {
   "cell_type": "markdown",
   "id": "da1163b8",
   "metadata": {},
   "source": [
    "\n",
    "# Define model without BatchNorm\n"
   ]
  },
  {
   "cell_type": "code",
   "execution_count": 18,
   "id": "dc8d9b72",
   "metadata": {},
   "outputs": [],
   "source": [
    "class RegressorNN(nn.Module):\n",
    "    def __init__(self, input_dim):\n",
    "        super().__init__()\n",
    "        self.model = nn.Sequential(\n",
    "            nn.Linear(input_dim, 32),\n",
    "            nn.ReLU(),\n",
    "            nn.Linear(32, 1)\n",
    "        )\n",
    "\n",
    "    def forward(self, x):\n",
    "        return self.model(x)\n"
   ]
  },
  {
   "cell_type": "markdown",
   "id": "7486ce97",
   "metadata": {},
   "source": [
    "\n",
    "# Define model with BatchNorm\n"
   ]
  },
  {
   "cell_type": "code",
   "execution_count": 19,
   "id": "cf96695a",
   "metadata": {},
   "outputs": [],
   "source": [
    "class RegressorBN(nn.Module):\n",
    "    def __init__(self, input_dim):\n",
    "        super().__init__()\n",
    "        self.model = nn.Sequential(\n",
    "            nn.Linear(input_dim, 32),\n",
    "            nn.BatchNorm1d(32),\n",
    "            nn.ReLU(),\n",
    "            nn.Linear(32, 1)\n",
    "        )\n",
    "\n",
    "    def forward(self, x):\n",
    "        return self.model(x)\n"
   ]
  },
  {
   "cell_type": "code",
   "execution_count": 20,
   "id": "416ca605",
   "metadata": {},
   "outputs": [],
   "source": [
    "\n",
    "def train_model(model, X_train, y_train, X_test, y_test, epochs=100):\n",
    "    optimizer = optim.Adam(model.parameters(), lr=1e-3)\n",
    "    criterion = nn.MSELoss()\n",
    "    train_losses, test_losses = [], []\n",
    "\n",
    "    for epoch in range(epochs):\n",
    "        model.train()\n",
    "        optimizer.zero_grad()\n",
    "        y_pred = model(X_train)\n",
    "        loss = criterion(y_pred, y_train)\n",
    "        loss.backward()\n",
    "        optimizer.step()\n",
    "\n",
    "        model.eval()\n",
    "        with torch.no_grad():\n",
    "            y_pred = model(X_train)\n",
    "            train_loss = nn.MSELoss()(y_pred, y_train)\n",
    "            test_pred = model(X_test)\n",
    "            test_loss = nn.MSELoss()(test_pred, y_test)\n",
    "        return [train_loss.item()] * epochs, [test_loss.item()] * epochs\n",
    "\n",
    "        train_losses.append(loss.item())\n",
    "        test_losses.append(test_loss.item())\n",
    "\n",
    "    return train_losses, test_losses\n"
   ]
  },
  {
   "cell_type": "markdown",
   "id": "2c94edbe",
   "metadata": {},
   "source": [
    "\n",
    "# Train both models\n"
   ]
  },
  {
   "cell_type": "code",
   "execution_count": 21,
   "id": "f73f229c",
   "metadata": {},
   "outputs": [],
   "source": [
    "model_plain = RegressorNN(input_dim=8)\n",
    "model_bn = RegressorBN(input_dim=8)\n",
    "\n",
    "train_plain, test_plain = train_model(model_plain, encoded_train, y_train, encoded_test, y_test)\n",
    "train_bn, test_bn = train_model(model_bn, encoded_train, y_train, encoded_test, y_test)\n"
   ]
  },
  {
   "cell_type": "markdown",
   "id": "24afa655",
   "metadata": {},
   "source": [
    "\n",
    "# Plot loss comparison\n"
   ]
  },
  {
   "cell_type": "code",
   "execution_count": 22,
   "id": "facc4a27",
   "metadata": {},
   "outputs": [
    {
     "data": {
      "image/png": "[encoded data removed]",
      "text/plain": [
       "<Figure size 1000x500 with 1 Axes>"
      ]
     },
     "metadata": {},
     "output_type": "display_data"
    },
    {
     "data": {
      "image/png": "[encoded data removed]",
      "text/plain": [
       "<Figure size 1000x400 with 1 Axes>"
      ]
     },
     "metadata": {},
     "output_type": "display_data"
    }
   ],
   "source": [
    "plt.figure(figsize=(10,5))\n",
    "plt.plot(train_plain, label=\"Train Loss (No BN)\")\n",
    "plt.plot(test_plain, label=\"Test Loss (No BN)\")\n",
    "plt.plot(train_bn, label=\"Train Loss (With BN)\")\n",
    "plt.plot(test_bn, label=\"Test Loss (With BN)\")\n",
    "plt.legend()\n",
    "plt.title(\"Comparison of Loss with and without Batch Normalization\")\n",
    "plt.xlabel(\"Epochs\")\n",
    "plt.ylabel(\"MSE Loss\")\n",
    "plt.grid(True)\n",
    "\n",
    "bar_labels = [\"Train Loss (No BN)\", \"Test Loss (No BN)\", \"Train Loss (With BN)\", \"Test Loss (With BN)\"]\n",
    "bar_values = [train_plain[-1], test_plain[-1], train_bn[-1], test_bn[-1]]\n",
    "plt.figure(figsize=(10,4))\n",
    "plt.bar(bar_labels, bar_values, color=['C0', 'C1', 'C2', 'C3'])\n",
    "plt.ylabel(\"Final MSE Loss\")\n",
    "plt.title(\"Final Loss Comparison (Last Epoch)\")\n",
    "plt.grid(axis='y')\n",
    "plt.show()\n",
    "plt.show()"
   ]
  },
  {
   "cell_type": "code",
   "execution_count": 23,
   "id": "2da5fb59",
   "metadata": {},
   "outputs": [],
   "source": [
    "train_ds_encoded = TensorDataset(encoded_train, y_train)\n",
    "\n",
    "full_batch_loader = DataLoader(train_ds_encoded, batch_size=len(encoded_train), shuffle=True)\n",
    "mini_batch_loader = DataLoader(train_ds_encoded, batch_size=64, shuffle=True)\n",
    "stochastic_loader = DataLoader(train_ds_encoded, batch_size=1, shuffle=True)"
   ]
  },
  {
   "cell_type": "code",
   "execution_count": 24,
   "id": "a6bc430a",
   "metadata": {},
   "outputs": [],
   "source": [
    "def train_with_loader(model, train_loader, X_test, y_test, epochs=50):\n",
    "    optimizer = optim.Adam(model.parameters(), lr=1e-3)\n",
    "    criterion = nn.MSELoss()\n",
    "    train_losses, test_losses = [], []\n",
    "    for epoch in range(epochs):\n",
    "        model.train()\n",
    "        batch_losses = []\n",
    "        for xb, yb in train_loader:\n",
    "            optimizer.zero_grad()\n",
    "            y_pred = model(xb)\n",
    "            loss = criterion(y_pred, yb)\n",
    "            loss.backward()\n",
    "            optimizer.step()\n",
    "            batch_losses.append(loss.item())\n",
    "        train_losses.append(np.mean(batch_losses))\n",
    "        # Evaluate on test set\n",
    "        model.eval()\n",
    "        with torch.no_grad():\n",
    "            test_pred = model(X_test)\n",
    "            test_loss = criterion(test_pred, y_test).item()\n",
    "        test_losses.append(test_loss)\n",
    "    return train_losses, test_losses"
   ]
  },
  {
   "cell_type": "code",
   "execution_count": 25,
   "id": "bc323cc2",
   "metadata": {},
   "outputs": [],
   "source": [
    "input_dim = encoded_train.shape[1]\n",
    "\n",
    "model_full = RegressorNN(input_dim)\n",
    "train_full, test_full = train_with_loader(model_full, full_batch_loader, encoded_test, y_test)\n",
    "\n",
    "model_mini = RegressorNN(input_dim)\n",
    "train_mini, test_mini = train_with_loader(model_mini, mini_batch_loader, encoded_test, y_test)\n",
    "\n",
    "model_stoch = RegressorNN(input_dim)\n",
    "train_stoch, test_stoch = train_with_loader(model_stoch, stochastic_loader, encoded_test, y_test)"
   ]
  },
  {
   "cell_type": "code",
   "execution_count": 26,
   "id": "a4987c68",
   "metadata": {},
   "outputs": [
    {
     "data": {
      "image/png": "[encoded data removed]",
      "text/plain": [
       "<Figure size 1200x600 with 1 Axes>"
      ]
     },
     "metadata": {},
     "output_type": "display_data"
    }
   ],
   "source": [
    "plt.figure(figsize=(12,6))\n",
    "plt.plot(train_full, label='Full Batch Train')\n",
    "plt.plot(test_full, label='Full Batch Test')\n",
    "plt.plot(train_mini, label='Mini-Batch Train')\n",
    "plt.plot(test_mini, label='Mini-Batch Test')\n",
    "plt.plot(train_stoch, label='Stochastic Train')\n",
    "plt.plot(test_stoch, label='Stochastic Test')\n",
    "plt.xlabel('Epoch')\n",
    "plt.ylabel('MSE Loss')\n",
    "plt.title('Comparison of Gradient Descent Methods')\n",
    "plt.legend()\n",
    "plt.show()"
   ]
  }
 ],
 "metadata": {
  "kernelspec": {
   "display_name": "tf-env",
   "language": "python",
   "name": "python3"
  },
  "language_info": {
   "codemirror_mode": {
    "name": "ipython",
    "version": 3
   },
   "file_extension": ".py",
   "mimetype": "text/x-python",
   "name": "python",
   "nbconvert_exporter": "python",
   "pygments_lexer": "ipython3",
   "version": "3.10.9"
  }
 },
 "nbformat": 4,
 "nbformat_minor": 5
}
